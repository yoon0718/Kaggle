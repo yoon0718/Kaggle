{
 "cells": [
  {
   "cell_type": "code",
   "execution_count": 1,
   "id": "e3f51a2c",
   "metadata": {
    "_cell_guid": "b1076dfc-b9ad-4769-8c92-a6c4dae69d19",
    "_uuid": "8f2839f25d086af736a60e9eeb907d3b93b6e0e5",
    "execution": {
     "iopub.execute_input": "2023-11-13T15:18:38.467824Z",
     "iopub.status.busy": "2023-11-13T15:18:38.467181Z",
     "iopub.status.idle": "2023-11-13T15:18:39.175393Z",
     "shell.execute_reply": "2023-11-13T15:18:39.174370Z"
    },
    "papermill": {
     "duration": 0.721613,
     "end_time": "2023-11-13T15:18:39.177959",
     "exception": false,
     "start_time": "2023-11-13T15:18:38.456346",
     "status": "completed"
    },
    "tags": []
   },
   "outputs": [
    {
     "name": "stdout",
     "output_type": "stream",
     "text": [
      "/kaggle/input/titanic/train.csv\n",
      "/kaggle/input/titanic/test.csv\n",
      "/kaggle/input/titanic/gender_submission.csv\n"
     ]
    }
   ],
   "source": [
    "# This Python 3 environment comes with many helpful analytics libraries installed\n",
    "# It is defined by the kaggle/python Docker image: https://github.com/kaggle/docker-python\n",
    "# For example, here's several helpful packages to load\n",
    "\n",
    "import numpy as np # linear algebra\n",
    "import pandas as pd # data processing, CSV file I/O (e.g. pd.read_csv)\n",
    "\n",
    "# Input data files are available in the read-only \"../input/\" directory\n",
    "# For example, running this (by clicking run or pressing Shift+Enter) will list all files under the input directory\n",
    "\n",
    "import os\n",
    "for dirname, _, filenames in os.walk('/kaggle/input'):\n",
    "    for filename in filenames:\n",
    "        print(os.path.join(dirname, filename))\n",
    "\n",
    "# You can write up to 20GB to the current directory (/kaggle/working/) that gets preserved as output when you create a version using \"Save & Run All\" \n",
    "# You can also write temporary files to /kaggle/temp/, but they won't be saved outside of the current session"
   ]
  },
  {
   "cell_type": "code",
   "execution_count": 2,
   "id": "270159dc",
   "metadata": {
    "execution": {
     "iopub.execute_input": "2023-11-13T15:18:39.198612Z",
     "iopub.status.busy": "2023-11-13T15:18:39.197876Z",
     "iopub.status.idle": "2023-11-13T15:18:39.203330Z",
     "shell.execute_reply": "2023-11-13T15:18:39.202314Z"
    },
    "papermill": {
     "duration": 0.017904,
     "end_time": "2023-11-13T15:18:39.205431",
     "exception": false,
     "start_time": "2023-11-13T15:18:39.187527",
     "status": "completed"
    },
    "tags": []
   },
   "outputs": [
    {
     "name": "stdout",
     "output_type": "stream",
     "text": [
      "3.10.12 | packaged by conda-forge | (main, Jun 23 2023, 22:40:32) [GCC 12.3.0]\n"
     ]
    }
   ],
   "source": [
    "import sys \n",
    "print(sys.version)"
   ]
  },
  {
   "cell_type": "code",
   "execution_count": 3,
   "id": "230206b3",
   "metadata": {
    "execution": {
     "iopub.execute_input": "2023-11-13T15:18:39.225052Z",
     "iopub.status.busy": "2023-11-13T15:18:39.224691Z",
     "iopub.status.idle": "2023-11-13T15:18:40.584212Z",
     "shell.execute_reply": "2023-11-13T15:18:40.583371Z"
    },
    "papermill": {
     "duration": 1.372148,
     "end_time": "2023-11-13T15:18:40.586544",
     "exception": false,
     "start_time": "2023-11-13T15:18:39.214396",
     "status": "completed"
    },
    "tags": []
   },
   "outputs": [],
   "source": [
    "import pandas as pd\n",
    "import numpy as np\n",
    "import seaborn as sns\n",
    "import matplotlib.pyplot as plt\n",
    "\n",
    "plt.rc('font', family='Malgun Gothic')\n",
    "plt.rc('axes', unicode_minus=False)\n",
    "\n",
    "import warnings\n",
    "warnings.filterwarnings(action='ignore')\n",
    "\n",
    "train = pd.read_csv(\"/kaggle/input/titanic/train.csv\")\n",
    "test = pd.read_csv(\"/kaggle/input/titanic/test.csv\")\n",
    "submission = pd.read_csv(\"/kaggle/input/titanic/gender_submission.csv\")"
   ]
  },
  {
   "cell_type": "code",
   "execution_count": 4,
   "id": "bd49bf33",
   "metadata": {
    "execution": {
     "iopub.execute_input": "2023-11-13T15:18:40.607168Z",
     "iopub.status.busy": "2023-11-13T15:18:40.606610Z",
     "iopub.status.idle": "2023-11-13T15:18:40.630229Z",
     "shell.execute_reply": "2023-11-13T15:18:40.629196Z"
    },
    "papermill": {
     "duration": 0.036582,
     "end_time": "2023-11-13T15:18:40.632425",
     "exception": false,
     "start_time": "2023-11-13T15:18:40.595843",
     "status": "completed"
    },
    "tags": []
   },
   "outputs": [
    {
     "data": {
      "text/html": [
       "<div>\n",
       "<style scoped>\n",
       "    .dataframe tbody tr th:only-of-type {\n",
       "        vertical-align: middle;\n",
       "    }\n",
       "\n",
       "    .dataframe tbody tr th {\n",
       "        vertical-align: top;\n",
       "    }\n",
       "\n",
       "    .dataframe thead th {\n",
       "        text-align: right;\n",
       "    }\n",
       "</style>\n",
       "<table border=\"1\" class=\"dataframe\">\n",
       "  <thead>\n",
       "    <tr style=\"text-align: right;\">\n",
       "      <th></th>\n",
       "      <th>PassengerId</th>\n",
       "      <th>Survived</th>\n",
       "      <th>Pclass</th>\n",
       "      <th>Name</th>\n",
       "      <th>Sex</th>\n",
       "      <th>Age</th>\n",
       "      <th>SibSp</th>\n",
       "      <th>Parch</th>\n",
       "      <th>Ticket</th>\n",
       "      <th>Fare</th>\n",
       "      <th>Cabin</th>\n",
       "      <th>Embarked</th>\n",
       "    </tr>\n",
       "  </thead>\n",
       "  <tbody>\n",
       "    <tr>\n",
       "      <th>0</th>\n",
       "      <td>1</td>\n",
       "      <td>0</td>\n",
       "      <td>3</td>\n",
       "      <td>Braund, Mr. Owen Harris</td>\n",
       "      <td>male</td>\n",
       "      <td>22.0</td>\n",
       "      <td>1</td>\n",
       "      <td>0</td>\n",
       "      <td>A/5 21171</td>\n",
       "      <td>7.2500</td>\n",
       "      <td>NaN</td>\n",
       "      <td>S</td>\n",
       "    </tr>\n",
       "    <tr>\n",
       "      <th>1</th>\n",
       "      <td>2</td>\n",
       "      <td>1</td>\n",
       "      <td>1</td>\n",
       "      <td>Cumings, Mrs. John Bradley (Florence Briggs Th...</td>\n",
       "      <td>female</td>\n",
       "      <td>38.0</td>\n",
       "      <td>1</td>\n",
       "      <td>0</td>\n",
       "      <td>PC 17599</td>\n",
       "      <td>71.2833</td>\n",
       "      <td>C85</td>\n",
       "      <td>C</td>\n",
       "    </tr>\n",
       "    <tr>\n",
       "      <th>2</th>\n",
       "      <td>3</td>\n",
       "      <td>1</td>\n",
       "      <td>3</td>\n",
       "      <td>Heikkinen, Miss. Laina</td>\n",
       "      <td>female</td>\n",
       "      <td>26.0</td>\n",
       "      <td>0</td>\n",
       "      <td>0</td>\n",
       "      <td>STON/O2. 3101282</td>\n",
       "      <td>7.9250</td>\n",
       "      <td>NaN</td>\n",
       "      <td>S</td>\n",
       "    </tr>\n",
       "    <tr>\n",
       "      <th>3</th>\n",
       "      <td>4</td>\n",
       "      <td>1</td>\n",
       "      <td>1</td>\n",
       "      <td>Futrelle, Mrs. Jacques Heath (Lily May Peel)</td>\n",
       "      <td>female</td>\n",
       "      <td>35.0</td>\n",
       "      <td>1</td>\n",
       "      <td>0</td>\n",
       "      <td>113803</td>\n",
       "      <td>53.1000</td>\n",
       "      <td>C123</td>\n",
       "      <td>S</td>\n",
       "    </tr>\n",
       "    <tr>\n",
       "      <th>4</th>\n",
       "      <td>5</td>\n",
       "      <td>0</td>\n",
       "      <td>3</td>\n",
       "      <td>Allen, Mr. William Henry</td>\n",
       "      <td>male</td>\n",
       "      <td>35.0</td>\n",
       "      <td>0</td>\n",
       "      <td>0</td>\n",
       "      <td>373450</td>\n",
       "      <td>8.0500</td>\n",
       "      <td>NaN</td>\n",
       "      <td>S</td>\n",
       "    </tr>\n",
       "  </tbody>\n",
       "</table>\n",
       "</div>"
      ],
      "text/plain": [
       "   PassengerId  Survived  Pclass  \\\n",
       "0            1         0       3   \n",
       "1            2         1       1   \n",
       "2            3         1       3   \n",
       "3            4         1       1   \n",
       "4            5         0       3   \n",
       "\n",
       "                                                Name     Sex   Age  SibSp  \\\n",
       "0                            Braund, Mr. Owen Harris    male  22.0      1   \n",
       "1  Cumings, Mrs. John Bradley (Florence Briggs Th...  female  38.0      1   \n",
       "2                             Heikkinen, Miss. Laina  female  26.0      0   \n",
       "3       Futrelle, Mrs. Jacques Heath (Lily May Peel)  female  35.0      1   \n",
       "4                           Allen, Mr. William Henry    male  35.0      0   \n",
       "\n",
       "   Parch            Ticket     Fare Cabin Embarked  \n",
       "0      0         A/5 21171   7.2500   NaN        S  \n",
       "1      0          PC 17599  71.2833   C85        C  \n",
       "2      0  STON/O2. 3101282   7.9250   NaN        S  \n",
       "3      0            113803  53.1000  C123        S  \n",
       "4      0            373450   8.0500   NaN        S  "
      ]
     },
     "execution_count": 4,
     "metadata": {},
     "output_type": "execute_result"
    }
   ],
   "source": [
    "train.head()"
   ]
  },
  {
   "cell_type": "code",
   "execution_count": 5,
   "id": "99c4a098",
   "metadata": {
    "execution": {
     "iopub.execute_input": "2023-11-13T15:18:40.652625Z",
     "iopub.status.busy": "2023-11-13T15:18:40.652268Z",
     "iopub.status.idle": "2023-11-13T15:18:40.665903Z",
     "shell.execute_reply": "2023-11-13T15:18:40.665049Z"
    },
    "papermill": {
     "duration": 0.026033,
     "end_time": "2023-11-13T15:18:40.667915",
     "exception": false,
     "start_time": "2023-11-13T15:18:40.641882",
     "status": "completed"
    },
    "tags": []
   },
   "outputs": [
    {
     "data": {
      "text/html": [
       "<div>\n",
       "<style scoped>\n",
       "    .dataframe tbody tr th:only-of-type {\n",
       "        vertical-align: middle;\n",
       "    }\n",
       "\n",
       "    .dataframe tbody tr th {\n",
       "        vertical-align: top;\n",
       "    }\n",
       "\n",
       "    .dataframe thead th {\n",
       "        text-align: right;\n",
       "    }\n",
       "</style>\n",
       "<table border=\"1\" class=\"dataframe\">\n",
       "  <thead>\n",
       "    <tr style=\"text-align: right;\">\n",
       "      <th></th>\n",
       "      <th>PassengerId</th>\n",
       "      <th>Pclass</th>\n",
       "      <th>Name</th>\n",
       "      <th>Sex</th>\n",
       "      <th>Age</th>\n",
       "      <th>SibSp</th>\n",
       "      <th>Parch</th>\n",
       "      <th>Ticket</th>\n",
       "      <th>Fare</th>\n",
       "      <th>Cabin</th>\n",
       "      <th>Embarked</th>\n",
       "    </tr>\n",
       "  </thead>\n",
       "  <tbody>\n",
       "    <tr>\n",
       "      <th>0</th>\n",
       "      <td>892</td>\n",
       "      <td>3</td>\n",
       "      <td>Kelly, Mr. James</td>\n",
       "      <td>male</td>\n",
       "      <td>34.5</td>\n",
       "      <td>0</td>\n",
       "      <td>0</td>\n",
       "      <td>330911</td>\n",
       "      <td>7.8292</td>\n",
       "      <td>NaN</td>\n",
       "      <td>Q</td>\n",
       "    </tr>\n",
       "    <tr>\n",
       "      <th>1</th>\n",
       "      <td>893</td>\n",
       "      <td>3</td>\n",
       "      <td>Wilkes, Mrs. James (Ellen Needs)</td>\n",
       "      <td>female</td>\n",
       "      <td>47.0</td>\n",
       "      <td>1</td>\n",
       "      <td>0</td>\n",
       "      <td>363272</td>\n",
       "      <td>7.0000</td>\n",
       "      <td>NaN</td>\n",
       "      <td>S</td>\n",
       "    </tr>\n",
       "    <tr>\n",
       "      <th>2</th>\n",
       "      <td>894</td>\n",
       "      <td>2</td>\n",
       "      <td>Myles, Mr. Thomas Francis</td>\n",
       "      <td>male</td>\n",
       "      <td>62.0</td>\n",
       "      <td>0</td>\n",
       "      <td>0</td>\n",
       "      <td>240276</td>\n",
       "      <td>9.6875</td>\n",
       "      <td>NaN</td>\n",
       "      <td>Q</td>\n",
       "    </tr>\n",
       "    <tr>\n",
       "      <th>3</th>\n",
       "      <td>895</td>\n",
       "      <td>3</td>\n",
       "      <td>Wirz, Mr. Albert</td>\n",
       "      <td>male</td>\n",
       "      <td>27.0</td>\n",
       "      <td>0</td>\n",
       "      <td>0</td>\n",
       "      <td>315154</td>\n",
       "      <td>8.6625</td>\n",
       "      <td>NaN</td>\n",
       "      <td>S</td>\n",
       "    </tr>\n",
       "    <tr>\n",
       "      <th>4</th>\n",
       "      <td>896</td>\n",
       "      <td>3</td>\n",
       "      <td>Hirvonen, Mrs. Alexander (Helga E Lindqvist)</td>\n",
       "      <td>female</td>\n",
       "      <td>22.0</td>\n",
       "      <td>1</td>\n",
       "      <td>1</td>\n",
       "      <td>3101298</td>\n",
       "      <td>12.2875</td>\n",
       "      <td>NaN</td>\n",
       "      <td>S</td>\n",
       "    </tr>\n",
       "  </tbody>\n",
       "</table>\n",
       "</div>"
      ],
      "text/plain": [
       "   PassengerId  Pclass                                          Name     Sex  \\\n",
       "0          892       3                              Kelly, Mr. James    male   \n",
       "1          893       3              Wilkes, Mrs. James (Ellen Needs)  female   \n",
       "2          894       2                     Myles, Mr. Thomas Francis    male   \n",
       "3          895       3                              Wirz, Mr. Albert    male   \n",
       "4          896       3  Hirvonen, Mrs. Alexander (Helga E Lindqvist)  female   \n",
       "\n",
       "    Age  SibSp  Parch   Ticket     Fare Cabin Embarked  \n",
       "0  34.5      0      0   330911   7.8292   NaN        Q  \n",
       "1  47.0      1      0   363272   7.0000   NaN        S  \n",
       "2  62.0      0      0   240276   9.6875   NaN        Q  \n",
       "3  27.0      0      0   315154   8.6625   NaN        S  \n",
       "4  22.0      1      1  3101298  12.2875   NaN        S  "
      ]
     },
     "execution_count": 5,
     "metadata": {},
     "output_type": "execute_result"
    }
   ],
   "source": [
    "test.head()"
   ]
  },
  {
   "cell_type": "code",
   "execution_count": 6,
   "id": "29cde781",
   "metadata": {
    "execution": {
     "iopub.execute_input": "2023-11-13T15:18:40.688905Z",
     "iopub.status.busy": "2023-11-13T15:18:40.688105Z",
     "iopub.status.idle": "2023-11-13T15:18:40.697678Z",
     "shell.execute_reply": "2023-11-13T15:18:40.696574Z"
    },
    "papermill": {
     "duration": 0.022751,
     "end_time": "2023-11-13T15:18:40.700253",
     "exception": false,
     "start_time": "2023-11-13T15:18:40.677502",
     "status": "completed"
    },
    "tags": []
   },
   "outputs": [
    {
     "name": "stdout",
     "output_type": "stream",
     "text": [
      "(891, 12)\n",
      "(418, 11)\n"
     ]
    },
    {
     "data": {
      "text/html": [
       "<div>\n",
       "<style scoped>\n",
       "    .dataframe tbody tr th:only-of-type {\n",
       "        vertical-align: middle;\n",
       "    }\n",
       "\n",
       "    .dataframe tbody tr th {\n",
       "        vertical-align: top;\n",
       "    }\n",
       "\n",
       "    .dataframe thead th {\n",
       "        text-align: right;\n",
       "    }\n",
       "</style>\n",
       "<table border=\"1\" class=\"dataframe\">\n",
       "  <thead>\n",
       "    <tr style=\"text-align: right;\">\n",
       "      <th></th>\n",
       "      <th>PassengerId</th>\n",
       "      <th>Survived</th>\n",
       "    </tr>\n",
       "  </thead>\n",
       "  <tbody>\n",
       "    <tr>\n",
       "      <th>0</th>\n",
       "      <td>892</td>\n",
       "      <td>0</td>\n",
       "    </tr>\n",
       "    <tr>\n",
       "      <th>1</th>\n",
       "      <td>893</td>\n",
       "      <td>1</td>\n",
       "    </tr>\n",
       "    <tr>\n",
       "      <th>2</th>\n",
       "      <td>894</td>\n",
       "      <td>0</td>\n",
       "    </tr>\n",
       "    <tr>\n",
       "      <th>3</th>\n",
       "      <td>895</td>\n",
       "      <td>0</td>\n",
       "    </tr>\n",
       "    <tr>\n",
       "      <th>4</th>\n",
       "      <td>896</td>\n",
       "      <td>1</td>\n",
       "    </tr>\n",
       "  </tbody>\n",
       "</table>\n",
       "</div>"
      ],
      "text/plain": [
       "   PassengerId  Survived\n",
       "0          892         0\n",
       "1          893         1\n",
       "2          894         0\n",
       "3          895         0\n",
       "4          896         1"
      ]
     },
     "execution_count": 6,
     "metadata": {},
     "output_type": "execute_result"
    }
   ],
   "source": [
    "print(train.shape)\n",
    "print(test.shape)\n",
    "submission.head()"
   ]
  },
  {
   "cell_type": "code",
   "execution_count": 7,
   "id": "4f76afe2",
   "metadata": {
    "execution": {
     "iopub.execute_input": "2023-11-13T15:18:40.721140Z",
     "iopub.status.busy": "2023-11-13T15:18:40.720750Z",
     "iopub.status.idle": "2023-11-13T15:18:40.730340Z",
     "shell.execute_reply": "2023-11-13T15:18:40.729454Z"
    },
    "papermill": {
     "duration": 0.022358,
     "end_time": "2023-11-13T15:18:40.732246",
     "exception": false,
     "start_time": "2023-11-13T15:18:40.709888",
     "status": "completed"
    },
    "tags": []
   },
   "outputs": [
    {
     "data": {
      "text/plain": [
       "PassengerId      0\n",
       "Survived         0\n",
       "Pclass           0\n",
       "Name             0\n",
       "Sex              0\n",
       "Age            177\n",
       "SibSp            0\n",
       "Parch            0\n",
       "Ticket           0\n",
       "Fare             0\n",
       "Cabin          687\n",
       "Embarked         2\n",
       "dtype: int64"
      ]
     },
     "execution_count": 7,
     "metadata": {},
     "output_type": "execute_result"
    }
   ],
   "source": [
    "train.isnull().sum()\n"
   ]
  },
  {
   "cell_type": "code",
   "execution_count": 8,
   "id": "155ebb76",
   "metadata": {
    "execution": {
     "iopub.execute_input": "2023-11-13T15:18:40.753622Z",
     "iopub.status.busy": "2023-11-13T15:18:40.753283Z",
     "iopub.status.idle": "2023-11-13T15:18:40.760667Z",
     "shell.execute_reply": "2023-11-13T15:18:40.759648Z"
    },
    "papermill": {
     "duration": 0.0206,
     "end_time": "2023-11-13T15:18:40.762689",
     "exception": false,
     "start_time": "2023-11-13T15:18:40.742089",
     "status": "completed"
    },
    "tags": []
   },
   "outputs": [
    {
     "data": {
      "text/plain": [
       "PassengerId      0\n",
       "Pclass           0\n",
       "Name             0\n",
       "Sex              0\n",
       "Age             86\n",
       "SibSp            0\n",
       "Parch            0\n",
       "Ticket           0\n",
       "Fare             1\n",
       "Cabin          327\n",
       "Embarked         0\n",
       "dtype: int64"
      ]
     },
     "execution_count": 8,
     "metadata": {},
     "output_type": "execute_result"
    }
   ],
   "source": [
    "test.isnull().sum()"
   ]
  },
  {
   "cell_type": "code",
   "execution_count": 9,
   "id": "bc15a304",
   "metadata": {
    "execution": {
     "iopub.execute_input": "2023-11-13T15:18:40.784165Z",
     "iopub.status.busy": "2023-11-13T15:18:40.783830Z",
     "iopub.status.idle": "2023-11-13T15:18:41.231687Z",
     "shell.execute_reply": "2023-11-13T15:18:41.230615Z"
    },
    "papermill": {
     "duration": 0.461598,
     "end_time": "2023-11-13T15:18:41.234184",
     "exception": false,
     "start_time": "2023-11-13T15:18:40.772586",
     "status": "completed"
    },
    "tags": []
   },
   "outputs": [
    {
     "data": {
      "text/plain": [
       "<Axes: >"
      ]
     },
     "execution_count": 9,
     "metadata": {},
     "output_type": "execute_result"
    },
    {
     "data": {
      "image/png": "[encoded data removed]",
      "text/plain": [
       "<Figure size 1200x500 with 2 Axes>"
      ]
     },
     "metadata": {},
     "output_type": "display_data"
    }
   ],
   "source": [
    "#결측치 시각화\n",
    "import missingno as msno\n",
    "msno.matrix(train, figsize=(12, 5))"
   ]
  },
  {
   "cell_type": "code",
   "execution_count": 10,
   "id": "1a2bdf14",
   "metadata": {
    "execution": {
     "iopub.execute_input": "2023-11-13T15:18:41.258705Z",
     "iopub.status.busy": "2023-11-13T15:18:41.258010Z",
     "iopub.status.idle": "2023-11-13T15:18:41.382318Z",
     "shell.execute_reply": "2023-11-13T15:18:41.381274Z"
    },
    "papermill": {
     "duration": 0.139232,
     "end_time": "2023-11-13T15:18:41.384565",
     "exception": false,
     "start_time": "2023-11-13T15:18:41.245333",
     "status": "completed"
    },
    "tags": []
   },
   "outputs": [
    {
     "data": {
      "image/png": "[encoded data removed]",
      "text/plain": [
       "<Figure size 800x500 with 1 Axes>"
      ]
     },
     "metadata": {},
     "output_type": "display_data"
    }
   ],
   "source": [
    "train[\"Survived\"].value_counts()\n",
    "\n",
    "plt.figure(figsize=(8, 5))\n",
    "labels = ['dead', 'Survived']\n",
    "train['Survived'].value_counts().plot.pie(labels=labels,\n",
    "                                         shadow=False,\n",
    "                                         autopct='%1.1f%%',\n",
    "                                         explode=[0, 0.08])\n",
    "plt.show()"
   ]
  },
  {
   "cell_type": "code",
   "execution_count": 11,
   "id": "072a9c51",
   "metadata": {
    "execution": {
     "iopub.execute_input": "2023-11-13T15:18:41.409339Z",
     "iopub.status.busy": "2023-11-13T15:18:41.408624Z",
     "iopub.status.idle": "2023-11-13T15:18:41.427370Z",
     "shell.execute_reply": "2023-11-13T15:18:41.426367Z"
    },
    "papermill": {
     "duration": 0.033751,
     "end_time": "2023-11-13T15:18:41.429508",
     "exception": false,
     "start_time": "2023-11-13T15:18:41.395757",
     "status": "completed"
    },
    "tags": []
   },
   "outputs": [
    {
     "name": "stdout",
     "output_type": "stream",
     "text": [
      "<class 'pandas.core.frame.DataFrame'>\n",
      "RangeIndex: 891 entries, 0 to 890\n",
      "Data columns (total 12 columns):\n",
      " #   Column       Non-Null Count  Dtype  \n",
      "---  ------       --------------  -----  \n",
      " 0   PassengerId  891 non-null    int64  \n",
      " 1   Survived     891 non-null    int64  \n",
      " 2   Pclass       891 non-null    int64  \n",
      " 3   Name         891 non-null    object \n",
      " 4   Sex          891 non-null    object \n",
      " 5   Age          714 non-null    float64\n",
      " 6   SibSp        891 non-null    int64  \n",
      " 7   Parch        891 non-null    int64  \n",
      " 8   Ticket       891 non-null    object \n",
      " 9   Fare         891 non-null    float64\n",
      " 10  Cabin        204 non-null    object \n",
      " 11  Embarked     889 non-null    object \n",
      "dtypes: float64(2), int64(5), object(5)\n",
      "memory usage: 83.7+ KB\n"
     ]
    }
   ],
   "source": [
    "train.info()"
   ]
  },
  {
   "cell_type": "code",
   "execution_count": 12,
   "id": "576635f2",
   "metadata": {
    "execution": {
     "iopub.execute_input": "2023-11-13T15:18:41.454884Z",
     "iopub.status.busy": "2023-11-13T15:18:41.453835Z",
     "iopub.status.idle": "2023-11-13T15:18:41.462584Z",
     "shell.execute_reply": "2023-11-13T15:18:41.461761Z"
    },
    "papermill": {
     "duration": 0.023728,
     "end_time": "2023-11-13T15:18:41.464661",
     "exception": false,
     "start_time": "2023-11-13T15:18:41.440933",
     "status": "completed"
    },
    "tags": []
   },
   "outputs": [
    {
     "data": {
      "text/plain": [
       "PassengerId      0\n",
       "Survived         0\n",
       "Pclass           0\n",
       "Name             0\n",
       "Sex              0\n",
       "Age            177\n",
       "SibSp            0\n",
       "Parch            0\n",
       "Ticket           0\n",
       "Fare             0\n",
       "Cabin          687\n",
       "Embarked         2\n",
       "dtype: int64"
      ]
     },
     "execution_count": 12,
     "metadata": {},
     "output_type": "execute_result"
    }
   ],
   "source": [
    "train.isnull().sum()"
   ]
  },
  {
   "cell_type": "code",
   "execution_count": 13,
   "id": "da97f614",
   "metadata": {
    "execution": {
     "iopub.execute_input": "2023-11-13T15:18:41.490004Z",
     "iopub.status.busy": "2023-11-13T15:18:41.489290Z",
     "iopub.status.idle": "2023-11-13T15:18:41.496547Z",
     "shell.execute_reply": "2023-11-13T15:18:41.495853Z"
    },
    "papermill": {
     "duration": 0.022257,
     "end_time": "2023-11-13T15:18:41.498582",
     "exception": false,
     "start_time": "2023-11-13T15:18:41.476325",
     "status": "completed"
    },
    "tags": []
   },
   "outputs": [],
   "source": [
    "train['Sex_clean'] = train['Sex'].astype('category').cat.codes\n",
    "test['Sex_clean'] = test['Sex'].astype('category').cat.codes"
   ]
  },
  {
   "cell_type": "code",
   "execution_count": 14,
   "id": "1ee5a3b1",
   "metadata": {
    "execution": {
     "iopub.execute_input": "2023-11-13T15:18:41.523550Z",
     "iopub.status.busy": "2023-11-13T15:18:41.522800Z",
     "iopub.status.idle": "2023-11-13T15:18:41.531251Z",
     "shell.execute_reply": "2023-11-13T15:18:41.530319Z"
    },
    "papermill": {
     "duration": 0.023204,
     "end_time": "2023-11-13T15:18:41.533264",
     "exception": false,
     "start_time": "2023-11-13T15:18:41.510060",
     "status": "completed"
    },
    "tags": []
   },
   "outputs": [
    {
     "data": {
      "text/plain": [
       "PassengerId      0\n",
       "Pclass           0\n",
       "Name             0\n",
       "Sex              0\n",
       "Age             86\n",
       "SibSp            0\n",
       "Parch            0\n",
       "Ticket           0\n",
       "Fare             1\n",
       "Cabin          327\n",
       "Embarked         0\n",
       "Sex_clean        0\n",
       "dtype: int64"
      ]
     },
     "execution_count": 14,
     "metadata": {},
     "output_type": "execute_result"
    }
   ],
   "source": [
    "test.isnull().sum()"
   ]
  },
  {
   "cell_type": "code",
   "execution_count": 15,
   "id": "6b383ae7",
   "metadata": {
    "execution": {
     "iopub.execute_input": "2023-11-13T15:18:41.558464Z",
     "iopub.status.busy": "2023-11-13T15:18:41.557849Z",
     "iopub.status.idle": "2023-11-13T15:18:41.565684Z",
     "shell.execute_reply": "2023-11-13T15:18:41.564716Z"
    },
    "papermill": {
     "duration": 0.023109,
     "end_time": "2023-11-13T15:18:41.568076",
     "exception": false,
     "start_time": "2023-11-13T15:18:41.544967",
     "status": "completed"
    },
    "tags": []
   },
   "outputs": [
    {
     "data": {
      "text/plain": [
       "Embarked\n",
       "S    644\n",
       "C    168\n",
       "Q     77\n",
       "Name: count, dtype: int64"
      ]
     },
     "execution_count": 15,
     "metadata": {},
     "output_type": "execute_result"
    }
   ],
   "source": [
    "train['Embarked'].value_counts()"
   ]
  },
  {
   "cell_type": "code",
   "execution_count": 16,
   "id": "8509a452",
   "metadata": {
    "execution": {
     "iopub.execute_input": "2023-11-13T15:18:41.593685Z",
     "iopub.status.busy": "2023-11-13T15:18:41.593069Z",
     "iopub.status.idle": "2023-11-13T15:18:41.599551Z",
     "shell.execute_reply": "2023-11-13T15:18:41.598847Z"
    },
    "papermill": {
     "duration": 0.021616,
     "end_time": "2023-11-13T15:18:41.601556",
     "exception": false,
     "start_time": "2023-11-13T15:18:41.579940",
     "status": "completed"
    },
    "tags": []
   },
   "outputs": [],
   "source": [
    "train['Embarked'].fillna('S', inplace=True)"
   ]
  },
  {
   "cell_type": "code",
   "execution_count": 17,
   "id": "3fdd2984",
   "metadata": {
    "execution": {
     "iopub.execute_input": "2023-11-13T15:18:41.681624Z",
     "iopub.status.busy": "2023-11-13T15:18:41.681012Z",
     "iopub.status.idle": "2023-11-13T15:18:41.688204Z",
     "shell.execute_reply": "2023-11-13T15:18:41.687438Z"
    },
    "papermill": {
     "duration": 0.076443,
     "end_time": "2023-11-13T15:18:41.690197",
     "exception": false,
     "start_time": "2023-11-13T15:18:41.613754",
     "status": "completed"
    },
    "tags": []
   },
   "outputs": [],
   "source": [
    "train['Embarked_clean'] = train['Embarked'].astype('category').cat.codes\n",
    "test['Embarked_clean'] = test['Embarked'].astype('category').cat.codes"
   ]
  },
  {
   "cell_type": "code",
   "execution_count": 18,
   "id": "7aa770e9",
   "metadata": {
    "execution": {
     "iopub.execute_input": "2023-11-13T15:18:41.715734Z",
     "iopub.status.busy": "2023-11-13T15:18:41.715205Z",
     "iopub.status.idle": "2023-11-13T15:18:41.722349Z",
     "shell.execute_reply": "2023-11-13T15:18:41.721652Z"
    },
    "papermill": {
     "duration": 0.022058,
     "end_time": "2023-11-13T15:18:41.724244",
     "exception": false,
     "start_time": "2023-11-13T15:18:41.702186",
     "status": "completed"
    },
    "tags": []
   },
   "outputs": [],
   "source": [
    "train['family'] = train['SibSp'] + train['Parch'] + 1\n",
    "test['family'] = test['SibSp'] + test['Parch'] + 1\n",
    "\n",
    "train['solo'] = (train['family'] == 1)\n",
    "test['solo'] = (test['family'] == 1)"
   ]
  },
  {
   "cell_type": "code",
   "execution_count": 19,
   "id": "0cc36a97",
   "metadata": {
    "execution": {
     "iopub.execute_input": "2023-11-13T15:18:41.749877Z",
     "iopub.status.busy": "2023-11-13T15:18:41.749306Z",
     "iopub.status.idle": "2023-11-13T15:18:41.769610Z",
     "shell.execute_reply": "2023-11-13T15:18:41.768631Z"
    },
    "papermill": {
     "duration": 0.035792,
     "end_time": "2023-11-13T15:18:41.771934",
     "exception": false,
     "start_time": "2023-11-13T15:18:41.736142",
     "status": "completed"
    },
    "tags": []
   },
   "outputs": [
    {
     "data": {
      "text/plain": [
       "FareBin\n",
       "(7.854, 10.5]        184\n",
       "(21.679, 39.688]     180\n",
       "(-0.001, 7.854]      179\n",
       "(39.688, 512.329]    176\n",
       "(10.5, 21.679]       172\n",
       "Name: count, dtype: int64"
      ]
     },
     "execution_count": 19,
     "metadata": {},
     "output_type": "execute_result"
    }
   ],
   "source": [
    "train['FareBin'] = pd.qcut(train['Fare'], 5)\n",
    "test['FareBin'] = pd.qcut(test['Fare'], 5)\n",
    "\n",
    "train['FareBin'].value_counts()"
   ]
  },
  {
   "cell_type": "code",
   "execution_count": 20,
   "id": "23d92adb",
   "metadata": {
    "execution": {
     "iopub.execute_input": "2023-11-13T15:18:41.798371Z",
     "iopub.status.busy": "2023-11-13T15:18:41.797757Z",
     "iopub.status.idle": "2023-11-13T15:18:41.804227Z",
     "shell.execute_reply": "2023-11-13T15:18:41.803484Z"
    },
    "papermill": {
     "duration": 0.021884,
     "end_time": "2023-11-13T15:18:41.806265",
     "exception": false,
     "start_time": "2023-11-13T15:18:41.784381",
     "status": "completed"
    },
    "tags": []
   },
   "outputs": [],
   "source": [
    "train['FareBin_clean'] = train['FareBin'].astype('category').cat.codes\n",
    "test['FareBin_clean'] = test['FareBin'].astype('category').cat.codes"
   ]
  },
  {
   "cell_type": "code",
   "execution_count": 21,
   "id": "a1eab3ab",
   "metadata": {
    "execution": {
     "iopub.execute_input": "2023-11-13T15:18:41.831764Z",
     "iopub.status.busy": "2023-11-13T15:18:41.831185Z",
     "iopub.status.idle": "2023-11-13T15:18:41.839021Z",
     "shell.execute_reply": "2023-11-13T15:18:41.838148Z"
    },
    "papermill": {
     "duration": 0.022786,
     "end_time": "2023-11-13T15:18:41.840913",
     "exception": false,
     "start_time": "2023-11-13T15:18:41.818127",
     "status": "completed"
    },
    "tags": []
   },
   "outputs": [
    {
     "data": {
      "text/plain": [
       "0                                Braund, Mr. Owen Harris\n",
       "1      Cumings, Mrs. John Bradley (Florence Briggs Th...\n",
       "2                                 Heikkinen, Miss. Laina\n",
       "3           Futrelle, Mrs. Jacques Heath (Lily May Peel)\n",
       "4                               Allen, Mr. William Henry\n",
       "                             ...                        \n",
       "886                                Montvila, Rev. Juozas\n",
       "887                         Graham, Miss. Margaret Edith\n",
       "888             Johnston, Miss. Catherine Helen \"Carrie\"\n",
       "889                                Behr, Mr. Karl Howell\n",
       "890                                  Dooley, Mr. Patrick\n",
       "Name: Name, Length: 891, dtype: object"
      ]
     },
     "execution_count": 21,
     "metadata": {},
     "output_type": "execute_result"
    }
   ],
   "source": [
    "train['Name']"
   ]
  },
  {
   "cell_type": "code",
   "execution_count": 22,
   "id": "023b378e",
   "metadata": {
    "execution": {
     "iopub.execute_input": "2023-11-13T15:18:41.867098Z",
     "iopub.status.busy": "2023-11-13T15:18:41.866461Z",
     "iopub.status.idle": "2023-11-13T15:18:41.875459Z",
     "shell.execute_reply": "2023-11-13T15:18:41.874754Z"
    },
    "papermill": {
     "duration": 0.024547,
     "end_time": "2023-11-13T15:18:41.877471",
     "exception": false,
     "start_time": "2023-11-13T15:18:41.852924",
     "status": "completed"
    },
    "tags": []
   },
   "outputs": [],
   "source": [
    "train['Title'] = train['Name'].str.extract('([A-Za-z]+)\\.', expand=False)\n",
    "test['Title'] = test['Name'].str.extract('([A-Za-z]+)\\.', expand=False)"
   ]
  },
  {
   "cell_type": "code",
   "execution_count": 23,
   "id": "c8c28312",
   "metadata": {
    "execution": {
     "iopub.execute_input": "2023-11-13T15:18:41.903216Z",
     "iopub.status.busy": "2023-11-13T15:18:41.902585Z",
     "iopub.status.idle": "2023-11-13T15:18:41.910801Z",
     "shell.execute_reply": "2023-11-13T15:18:41.909858Z"
    },
    "papermill": {
     "duration": 0.023332,
     "end_time": "2023-11-13T15:18:41.912678",
     "exception": false,
     "start_time": "2023-11-13T15:18:41.889346",
     "status": "completed"
    },
    "tags": []
   },
   "outputs": [
    {
     "data": {
      "text/plain": [
       "Title\n",
       "Mr          517\n",
       "Miss        182\n",
       "Mrs         125\n",
       "Master       40\n",
       "Dr            7\n",
       "Rev           6\n",
       "Mlle          2\n",
       "Major         2\n",
       "Col           2\n",
       "Countess      1\n",
       "Capt          1\n",
       "Ms            1\n",
       "Sir           1\n",
       "Lady          1\n",
       "Mme           1\n",
       "Don           1\n",
       "Jonkheer      1\n",
       "Name: count, dtype: int64"
      ]
     },
     "execution_count": 23,
     "metadata": {},
     "output_type": "execute_result"
    }
   ],
   "source": [
    "train['Title'].value_counts()"
   ]
  },
  {
   "cell_type": "code",
   "execution_count": 24,
   "id": "f0a0b5d3",
   "metadata": {
    "execution": {
     "iopub.execute_input": "2023-11-13T15:18:41.939695Z",
     "iopub.status.busy": "2023-11-13T15:18:41.938699Z",
     "iopub.status.idle": "2023-11-13T15:18:41.946837Z",
     "shell.execute_reply": "2023-11-13T15:18:41.946085Z"
    },
    "papermill": {
     "duration": 0.02354,
     "end_time": "2023-11-13T15:18:41.948785",
     "exception": false,
     "start_time": "2023-11-13T15:18:41.925245",
     "status": "completed"
    },
    "tags": []
   },
   "outputs": [],
   "source": [
    "train['Title'] = train['Title'].replace(['Dr', 'Rev', 'Major', 'Col', 'Countess', 'Capt', 'Sir', 'Lady', 'Don', 'Jonkheer'], 'other')\n",
    "test['Title'] = test['Title'].replace(['Dr', 'Rev', 'Major', 'Col', 'Countess', 'Capt', 'Sir', 'Lady', 'Don', 'Jonkheer'], 'other')"
   ]
  },
  {
   "cell_type": "code",
   "execution_count": 25,
   "id": "e9b9d7d1",
   "metadata": {
    "execution": {
     "iopub.execute_input": "2023-11-13T15:18:41.975164Z",
     "iopub.status.busy": "2023-11-13T15:18:41.974557Z",
     "iopub.status.idle": "2023-11-13T15:18:41.983045Z",
     "shell.execute_reply": "2023-11-13T15:18:41.982220Z"
    },
    "papermill": {
     "duration": 0.023901,
     "end_time": "2023-11-13T15:18:41.984905",
     "exception": false,
     "start_time": "2023-11-13T15:18:41.961004",
     "status": "completed"
    },
    "tags": []
   },
   "outputs": [],
   "source": [
    "train['Title'] = train['Title'].replace('Mlle', 'Miss')\n",
    "train['Title'] = train['Title'].replace('Ms', 'Miss')\n",
    "train['Title'] = train['Title'].replace('Mme', 'Mrs')\n",
    "\n",
    "test['Title'] = test['Title'].replace('Mlle', 'Miss')\n",
    "test['Title'] = test['Title'].replace('Ms', 'Miss')\n",
    "test['Title'] = test['Title'].replace('Mme', 'Mrs')"
   ]
  },
  {
   "cell_type": "code",
   "execution_count": 26,
   "id": "9b713d6d",
   "metadata": {
    "execution": {
     "iopub.execute_input": "2023-11-13T15:18:42.011691Z",
     "iopub.status.busy": "2023-11-13T15:18:42.010580Z",
     "iopub.status.idle": "2023-11-13T15:18:42.018826Z",
     "shell.execute_reply": "2023-11-13T15:18:42.017962Z"
    },
    "papermill": {
     "duration": 0.02366,
     "end_time": "2023-11-13T15:18:42.020739",
     "exception": false,
     "start_time": "2023-11-13T15:18:41.997079",
     "status": "completed"
    },
    "tags": []
   },
   "outputs": [
    {
     "data": {
      "text/plain": [
       "Title\n",
       "Mr        517\n",
       "Miss      185\n",
       "Mrs       126\n",
       "Master     40\n",
       "other      23\n",
       "Name: count, dtype: int64"
      ]
     },
     "execution_count": 26,
     "metadata": {},
     "output_type": "execute_result"
    }
   ],
   "source": [
    "train['Title'].value_counts()"
   ]
  },
  {
   "cell_type": "code",
   "execution_count": 27,
   "id": "289f3254",
   "metadata": {
    "execution": {
     "iopub.execute_input": "2023-11-13T15:18:42.047436Z",
     "iopub.status.busy": "2023-11-13T15:18:42.046823Z",
     "iopub.status.idle": "2023-11-13T15:18:42.054606Z",
     "shell.execute_reply": "2023-11-13T15:18:42.053792Z"
    },
    "papermill": {
     "duration": 0.02337,
     "end_time": "2023-11-13T15:18:42.056582",
     "exception": false,
     "start_time": "2023-11-13T15:18:42.033212",
     "status": "completed"
    },
    "tags": []
   },
   "outputs": [
    {
     "data": {
      "text/plain": [
       "Title\n",
       "Mr        240\n",
       "Miss       79\n",
       "Mrs        72\n",
       "Master     21\n",
       "other       5\n",
       "Dona        1\n",
       "Name: count, dtype: int64"
      ]
     },
     "execution_count": 27,
     "metadata": {},
     "output_type": "execute_result"
    }
   ],
   "source": [
    "test['Title'].value_counts()"
   ]
  },
  {
   "cell_type": "code",
   "execution_count": 28,
   "id": "b2d900b0",
   "metadata": {
    "execution": {
     "iopub.execute_input": "2023-11-13T15:18:42.085137Z",
     "iopub.status.busy": "2023-11-13T15:18:42.084493Z",
     "iopub.status.idle": "2023-11-13T15:18:42.089695Z",
     "shell.execute_reply": "2023-11-13T15:18:42.088986Z"
    },
    "papermill": {
     "duration": 0.020942,
     "end_time": "2023-11-13T15:18:42.091585",
     "exception": false,
     "start_time": "2023-11-13T15:18:42.070643",
     "status": "completed"
    },
    "tags": []
   },
   "outputs": [],
   "source": [
    "test['Title'] = test['Title'].replace('Dona', 'other')"
   ]
  },
  {
   "cell_type": "code",
   "execution_count": 29,
   "id": "02f20398",
   "metadata": {
    "execution": {
     "iopub.execute_input": "2023-11-13T15:18:42.118427Z",
     "iopub.status.busy": "2023-11-13T15:18:42.117786Z",
     "iopub.status.idle": "2023-11-13T15:18:42.125830Z",
     "shell.execute_reply": "2023-11-13T15:18:42.124969Z"
    },
    "papermill": {
     "duration": 0.023661,
     "end_time": "2023-11-13T15:18:42.127730",
     "exception": false,
     "start_time": "2023-11-13T15:18:42.104069",
     "status": "completed"
    },
    "tags": []
   },
   "outputs": [
    {
     "data": {
      "text/plain": [
       "Title\n",
       "Mr        240\n",
       "Miss       79\n",
       "Mrs        72\n",
       "Master     21\n",
       "other       6\n",
       "Name: count, dtype: int64"
      ]
     },
     "execution_count": 29,
     "metadata": {},
     "output_type": "execute_result"
    }
   ],
   "source": [
    "test['Title'].value_counts()"
   ]
  },
  {
   "cell_type": "code",
   "execution_count": 30,
   "id": "2b9bf852",
   "metadata": {
    "execution": {
     "iopub.execute_input": "2023-11-13T15:18:42.155358Z",
     "iopub.status.busy": "2023-11-13T15:18:42.154701Z",
     "iopub.status.idle": "2023-11-13T15:18:42.161980Z",
     "shell.execute_reply": "2023-11-13T15:18:42.161134Z"
    },
    "papermill": {
     "duration": 0.023938,
     "end_time": "2023-11-13T15:18:42.164213",
     "exception": false,
     "start_time": "2023-11-13T15:18:42.140275",
     "status": "completed"
    },
    "tags": []
   },
   "outputs": [],
   "source": [
    "train['Title_clean'] = train['Title'].astype('category').cat.codes\n",
    "test['Title_clean'] = test['Title'].astype('category').cat.codes"
   ]
  },
  {
   "cell_type": "code",
   "execution_count": 31,
   "id": "c2c00046",
   "metadata": {
    "execution": {
     "iopub.execute_input": "2023-11-13T15:18:42.191761Z",
     "iopub.status.busy": "2023-11-13T15:18:42.191384Z",
     "iopub.status.idle": "2023-11-13T15:18:42.220457Z",
     "shell.execute_reply": "2023-11-13T15:18:42.219679Z"
    },
    "papermill": {
     "duration": 0.044989,
     "end_time": "2023-11-13T15:18:42.222379",
     "exception": false,
     "start_time": "2023-11-13T15:18:42.177390",
     "status": "completed"
    },
    "tags": []
   },
   "outputs": [
    {
     "data": {
      "text/html": [
       "<div>\n",
       "<style scoped>\n",
       "    .dataframe tbody tr th:only-of-type {\n",
       "        vertical-align: middle;\n",
       "    }\n",
       "\n",
       "    .dataframe tbody tr th {\n",
       "        vertical-align: top;\n",
       "    }\n",
       "\n",
       "    .dataframe thead th {\n",
       "        text-align: right;\n",
       "    }\n",
       "</style>\n",
       "<table border=\"1\" class=\"dataframe\">\n",
       "  <thead>\n",
       "    <tr style=\"text-align: right;\">\n",
       "      <th></th>\n",
       "      <th>PassengerId</th>\n",
       "      <th>Survived</th>\n",
       "      <th>Pclass</th>\n",
       "      <th>Name</th>\n",
       "      <th>Sex</th>\n",
       "      <th>Age</th>\n",
       "      <th>SibSp</th>\n",
       "      <th>Parch</th>\n",
       "      <th>Ticket</th>\n",
       "      <th>Fare</th>\n",
       "      <th>Cabin</th>\n",
       "      <th>Embarked</th>\n",
       "      <th>Sex_clean</th>\n",
       "      <th>Embarked_clean</th>\n",
       "      <th>family</th>\n",
       "      <th>solo</th>\n",
       "      <th>FareBin</th>\n",
       "      <th>FareBin_clean</th>\n",
       "      <th>Title</th>\n",
       "      <th>Title_clean</th>\n",
       "    </tr>\n",
       "  </thead>\n",
       "  <tbody>\n",
       "    <tr>\n",
       "      <th>0</th>\n",
       "      <td>1</td>\n",
       "      <td>0</td>\n",
       "      <td>3</td>\n",
       "      <td>Braund, Mr. Owen Harris</td>\n",
       "      <td>male</td>\n",
       "      <td>22.0</td>\n",
       "      <td>1</td>\n",
       "      <td>0</td>\n",
       "      <td>A/5 21171</td>\n",
       "      <td>7.2500</td>\n",
       "      <td>NaN</td>\n",
       "      <td>S</td>\n",
       "      <td>1</td>\n",
       "      <td>2</td>\n",
       "      <td>2</td>\n",
       "      <td>False</td>\n",
       "      <td>(-0.001, 7.854]</td>\n",
       "      <td>0</td>\n",
       "      <td>Mr</td>\n",
       "      <td>2</td>\n",
       "    </tr>\n",
       "    <tr>\n",
       "      <th>1</th>\n",
       "      <td>2</td>\n",
       "      <td>1</td>\n",
       "      <td>1</td>\n",
       "      <td>Cumings, Mrs. John Bradley (Florence Briggs Th...</td>\n",
       "      <td>female</td>\n",
       "      <td>38.0</td>\n",
       "      <td>1</td>\n",
       "      <td>0</td>\n",
       "      <td>PC 17599</td>\n",
       "      <td>71.2833</td>\n",
       "      <td>C85</td>\n",
       "      <td>C</td>\n",
       "      <td>0</td>\n",
       "      <td>0</td>\n",
       "      <td>2</td>\n",
       "      <td>False</td>\n",
       "      <td>(39.688, 512.329]</td>\n",
       "      <td>4</td>\n",
       "      <td>Mrs</td>\n",
       "      <td>3</td>\n",
       "    </tr>\n",
       "    <tr>\n",
       "      <th>2</th>\n",
       "      <td>3</td>\n",
       "      <td>1</td>\n",
       "      <td>3</td>\n",
       "      <td>Heikkinen, Miss. Laina</td>\n",
       "      <td>female</td>\n",
       "      <td>26.0</td>\n",
       "      <td>0</td>\n",
       "      <td>0</td>\n",
       "      <td>STON/O2. 3101282</td>\n",
       "      <td>7.9250</td>\n",
       "      <td>NaN</td>\n",
       "      <td>S</td>\n",
       "      <td>0</td>\n",
       "      <td>2</td>\n",
       "      <td>1</td>\n",
       "      <td>True</td>\n",
       "      <td>(7.854, 10.5]</td>\n",
       "      <td>1</td>\n",
       "      <td>Miss</td>\n",
       "      <td>1</td>\n",
       "    </tr>\n",
       "    <tr>\n",
       "      <th>3</th>\n",
       "      <td>4</td>\n",
       "      <td>1</td>\n",
       "      <td>1</td>\n",
       "      <td>Futrelle, Mrs. Jacques Heath (Lily May Peel)</td>\n",
       "      <td>female</td>\n",
       "      <td>35.0</td>\n",
       "      <td>1</td>\n",
       "      <td>0</td>\n",
       "      <td>113803</td>\n",
       "      <td>53.1000</td>\n",
       "      <td>C123</td>\n",
       "      <td>S</td>\n",
       "      <td>0</td>\n",
       "      <td>2</td>\n",
       "      <td>2</td>\n",
       "      <td>False</td>\n",
       "      <td>(39.688, 512.329]</td>\n",
       "      <td>4</td>\n",
       "      <td>Mrs</td>\n",
       "      <td>3</td>\n",
       "    </tr>\n",
       "    <tr>\n",
       "      <th>4</th>\n",
       "      <td>5</td>\n",
       "      <td>0</td>\n",
       "      <td>3</td>\n",
       "      <td>Allen, Mr. William Henry</td>\n",
       "      <td>male</td>\n",
       "      <td>35.0</td>\n",
       "      <td>0</td>\n",
       "      <td>0</td>\n",
       "      <td>373450</td>\n",
       "      <td>8.0500</td>\n",
       "      <td>NaN</td>\n",
       "      <td>S</td>\n",
       "      <td>1</td>\n",
       "      <td>2</td>\n",
       "      <td>1</td>\n",
       "      <td>True</td>\n",
       "      <td>(7.854, 10.5]</td>\n",
       "      <td>1</td>\n",
       "      <td>Mr</td>\n",
       "      <td>2</td>\n",
       "    </tr>\n",
       "    <tr>\n",
       "      <th>...</th>\n",
       "      <td>...</td>\n",
       "      <td>...</td>\n",
       "      <td>...</td>\n",
       "      <td>...</td>\n",
       "      <td>...</td>\n",
       "      <td>...</td>\n",
       "      <td>...</td>\n",
       "      <td>...</td>\n",
       "      <td>...</td>\n",
       "      <td>...</td>\n",
       "      <td>...</td>\n",
       "      <td>...</td>\n",
       "      <td>...</td>\n",
       "      <td>...</td>\n",
       "      <td>...</td>\n",
       "      <td>...</td>\n",
       "      <td>...</td>\n",
       "      <td>...</td>\n",
       "      <td>...</td>\n",
       "      <td>...</td>\n",
       "    </tr>\n",
       "    <tr>\n",
       "      <th>886</th>\n",
       "      <td>887</td>\n",
       "      <td>0</td>\n",
       "      <td>2</td>\n",
       "      <td>Montvila, Rev. Juozas</td>\n",
       "      <td>male</td>\n",
       "      <td>27.0</td>\n",
       "      <td>0</td>\n",
       "      <td>0</td>\n",
       "      <td>211536</td>\n",
       "      <td>13.0000</td>\n",
       "      <td>NaN</td>\n",
       "      <td>S</td>\n",
       "      <td>1</td>\n",
       "      <td>2</td>\n",
       "      <td>1</td>\n",
       "      <td>True</td>\n",
       "      <td>(10.5, 21.679]</td>\n",
       "      <td>2</td>\n",
       "      <td>other</td>\n",
       "      <td>4</td>\n",
       "    </tr>\n",
       "    <tr>\n",
       "      <th>887</th>\n",
       "      <td>888</td>\n",
       "      <td>1</td>\n",
       "      <td>1</td>\n",
       "      <td>Graham, Miss. Margaret Edith</td>\n",
       "      <td>female</td>\n",
       "      <td>19.0</td>\n",
       "      <td>0</td>\n",
       "      <td>0</td>\n",
       "      <td>112053</td>\n",
       "      <td>30.0000</td>\n",
       "      <td>B42</td>\n",
       "      <td>S</td>\n",
       "      <td>0</td>\n",
       "      <td>2</td>\n",
       "      <td>1</td>\n",
       "      <td>True</td>\n",
       "      <td>(21.679, 39.688]</td>\n",
       "      <td>3</td>\n",
       "      <td>Miss</td>\n",
       "      <td>1</td>\n",
       "    </tr>\n",
       "    <tr>\n",
       "      <th>888</th>\n",
       "      <td>889</td>\n",
       "      <td>0</td>\n",
       "      <td>3</td>\n",
       "      <td>Johnston, Miss. Catherine Helen \"Carrie\"</td>\n",
       "      <td>female</td>\n",
       "      <td>NaN</td>\n",
       "      <td>1</td>\n",
       "      <td>2</td>\n",
       "      <td>W./C. 6607</td>\n",
       "      <td>23.4500</td>\n",
       "      <td>NaN</td>\n",
       "      <td>S</td>\n",
       "      <td>0</td>\n",
       "      <td>2</td>\n",
       "      <td>4</td>\n",
       "      <td>False</td>\n",
       "      <td>(21.679, 39.688]</td>\n",
       "      <td>3</td>\n",
       "      <td>Miss</td>\n",
       "      <td>1</td>\n",
       "    </tr>\n",
       "    <tr>\n",
       "      <th>889</th>\n",
       "      <td>890</td>\n",
       "      <td>1</td>\n",
       "      <td>1</td>\n",
       "      <td>Behr, Mr. Karl Howell</td>\n",
       "      <td>male</td>\n",
       "      <td>26.0</td>\n",
       "      <td>0</td>\n",
       "      <td>0</td>\n",
       "      <td>111369</td>\n",
       "      <td>30.0000</td>\n",
       "      <td>C148</td>\n",
       "      <td>C</td>\n",
       "      <td>1</td>\n",
       "      <td>0</td>\n",
       "      <td>1</td>\n",
       "      <td>True</td>\n",
       "      <td>(21.679, 39.688]</td>\n",
       "      <td>3</td>\n",
       "      <td>Mr</td>\n",
       "      <td>2</td>\n",
       "    </tr>\n",
       "    <tr>\n",
       "      <th>890</th>\n",
       "      <td>891</td>\n",
       "      <td>0</td>\n",
       "      <td>3</td>\n",
       "      <td>Dooley, Mr. Patrick</td>\n",
       "      <td>male</td>\n",
       "      <td>32.0</td>\n",
       "      <td>0</td>\n",
       "      <td>0</td>\n",
       "      <td>370376</td>\n",
       "      <td>7.7500</td>\n",
       "      <td>NaN</td>\n",
       "      <td>Q</td>\n",
       "      <td>1</td>\n",
       "      <td>1</td>\n",
       "      <td>1</td>\n",
       "      <td>True</td>\n",
       "      <td>(-0.001, 7.854]</td>\n",
       "      <td>0</td>\n",
       "      <td>Mr</td>\n",
       "      <td>2</td>\n",
       "    </tr>\n",
       "  </tbody>\n",
       "</table>\n",
       "<p>891 rows × 20 columns</p>\n",
       "</div>"
      ],
      "text/plain": [
       "     PassengerId  Survived  Pclass  \\\n",
       "0              1         0       3   \n",
       "1              2         1       1   \n",
       "2              3         1       3   \n",
       "3              4         1       1   \n",
       "4              5         0       3   \n",
       "..           ...       ...     ...   \n",
       "886          887         0       2   \n",
       "887          888         1       1   \n",
       "888          889         0       3   \n",
       "889          890         1       1   \n",
       "890          891         0       3   \n",
       "\n",
       "                                                  Name     Sex   Age  SibSp  \\\n",
       "0                              Braund, Mr. Owen Harris    male  22.0      1   \n",
       "1    Cumings, Mrs. John Bradley (Florence Briggs Th...  female  38.0      1   \n",
       "2                               Heikkinen, Miss. Laina  female  26.0      0   \n",
       "3         Futrelle, Mrs. Jacques Heath (Lily May Peel)  female  35.0      1   \n",
       "4                             Allen, Mr. William Henry    male  35.0      0   \n",
       "..                                                 ...     ...   ...    ...   \n",
       "886                              Montvila, Rev. Juozas    male  27.0      0   \n",
       "887                       Graham, Miss. Margaret Edith  female  19.0      0   \n",
       "888           Johnston, Miss. Catherine Helen \"Carrie\"  female   NaN      1   \n",
       "889                              Behr, Mr. Karl Howell    male  26.0      0   \n",
       "890                                Dooley, Mr. Patrick    male  32.0      0   \n",
       "\n",
       "     Parch            Ticket     Fare Cabin Embarked  Sex_clean  \\\n",
       "0        0         A/5 21171   7.2500   NaN        S          1   \n",
       "1        0          PC 17599  71.2833   C85        C          0   \n",
       "2        0  STON/O2. 3101282   7.9250   NaN        S          0   \n",
       "3        0            113803  53.1000  C123        S          0   \n",
       "4        0            373450   8.0500   NaN        S          1   \n",
       "..     ...               ...      ...   ...      ...        ...   \n",
       "886      0            211536  13.0000   NaN        S          1   \n",
       "887      0            112053  30.0000   B42        S          0   \n",
       "888      2        W./C. 6607  23.4500   NaN        S          0   \n",
       "889      0            111369  30.0000  C148        C          1   \n",
       "890      0            370376   7.7500   NaN        Q          1   \n",
       "\n",
       "     Embarked_clean  family   solo            FareBin  FareBin_clean  Title  \\\n",
       "0                 2       2  False    (-0.001, 7.854]              0     Mr   \n",
       "1                 0       2  False  (39.688, 512.329]              4    Mrs   \n",
       "2                 2       1   True      (7.854, 10.5]              1   Miss   \n",
       "3                 2       2  False  (39.688, 512.329]              4    Mrs   \n",
       "4                 2       1   True      (7.854, 10.5]              1     Mr   \n",
       "..              ...     ...    ...                ...            ...    ...   \n",
       "886               2       1   True     (10.5, 21.679]              2  other   \n",
       "887               2       1   True   (21.679, 39.688]              3   Miss   \n",
       "888               2       4  False   (21.679, 39.688]              3   Miss   \n",
       "889               0       1   True   (21.679, 39.688]              3     Mr   \n",
       "890               1       1   True    (-0.001, 7.854]              0     Mr   \n",
       "\n",
       "     Title_clean  \n",
       "0              2  \n",
       "1              3  \n",
       "2              1  \n",
       "3              3  \n",
       "4              2  \n",
       "..           ...  \n",
       "886            4  \n",
       "887            1  \n",
       "888            1  \n",
       "889            2  \n",
       "890            2  \n",
       "\n",
       "[891 rows x 20 columns]"
      ]
     },
     "execution_count": 31,
     "metadata": {},
     "output_type": "execute_result"
    }
   ],
   "source": [
    "train"
   ]
  },
  {
   "cell_type": "code",
   "execution_count": 32,
   "id": "89aa946d",
   "metadata": {
    "execution": {
     "iopub.execute_input": "2023-11-13T15:18:42.250909Z",
     "iopub.status.busy": "2023-11-13T15:18:42.250181Z",
     "iopub.status.idle": "2023-11-13T15:18:42.258126Z",
     "shell.execute_reply": "2023-11-13T15:18:42.257237Z"
    },
    "papermill": {
     "duration": 0.024386,
     "end_time": "2023-11-13T15:18:42.260125",
     "exception": false,
     "start_time": "2023-11-13T15:18:42.235739",
     "status": "completed"
    },
    "tags": []
   },
   "outputs": [],
   "source": [
    "train[\"Age\"].fillna(train.groupby(\"Title\")[\"Age\"].transform(\"median\"), inplace=(True))\n",
    "test[\"Age\"].fillna(test.groupby(\"Title\")[\"Age\"].transform(\"median\"), inplace=(True))"
   ]
  },
  {
   "cell_type": "code",
   "execution_count": 33,
   "id": "7749e69b",
   "metadata": {
    "execution": {
     "iopub.execute_input": "2023-11-13T15:18:42.287991Z",
     "iopub.status.busy": "2023-11-13T15:18:42.287605Z",
     "iopub.status.idle": "2023-11-13T15:18:42.320333Z",
     "shell.execute_reply": "2023-11-13T15:18:42.319511Z"
    },
    "papermill": {
     "duration": 0.049168,
     "end_time": "2023-11-13T15:18:42.322533",
     "exception": false,
     "start_time": "2023-11-13T15:18:42.273365",
     "status": "completed"
    },
    "tags": []
   },
   "outputs": [],
   "source": [
    "train.loc[train[\"Age\"] <= 10, \"Age_clean\"] = 0\n",
    "train.loc[(train[\"Age\"] > 10) & (train[\"Age\"] <= 15), \"Age_clean\"] = 1\n",
    "train.loc[(train[\"Age\"] > 15) & (train[\"Age\"] <= 20), \"Age_clean\"] = 2\n",
    "train.loc[(train[\"Age\"] > 20) & (train[\"Age\"] <= 25), \"Age_clean\"] = 3\n",
    "train.loc[(train[\"Age\"] > 25) & (train[\"Age\"] <= 30), \"Age_clean\"] = 4\n",
    "train.loc[(train[\"Age\"] > 30) & (train[\"Age\"] <= 35), \"Age_clean\"] = 5\n",
    "train.loc[(train[\"Age\"] > 35) & (train[\"Age\"] <= 40), \"Age_clean\"] = 6\n",
    "train.loc[(train[\"Age\"] > 40) & (train[\"Age\"] <= 45), \"Age_clean\"] = 7\n",
    "train.loc[(train[\"Age\"] > 45) & (train[\"Age\"] <= 50), \"Age_clean\"] = 8\n",
    "train.loc[(train[\"Age\"] > 50) & (train[\"Age\"] <= 60), \"Age_clean\"] = 9\n",
    "train.loc[train[\"Age\"] > 60, \"Age_clean\"] = 10\n",
    "\n",
    "test.loc[test[\"Age\"] <= 10, \"Age_clean\"] = 0\n",
    "test.loc[(test[\"Age\"] > 10) & (test[\"Age\"] <= 15), \"Age_clean\"] = 1\n",
    "test.loc[(test[\"Age\"] > 15) & (test[\"Age\"] <= 20), \"Age_clean\"] = 2\n",
    "test.loc[(test[\"Age\"] > 20) & (test[\"Age\"] <= 25), \"Age_clean\"] = 3\n",
    "test.loc[(test[\"Age\"] > 25) & (test[\"Age\"] <= 30), \"Age_clean\"] = 4\n",
    "test.loc[(test[\"Age\"] > 30) & (test[\"Age\"] <= 35), \"Age_clean\"] = 5\n",
    "test.loc[(test[\"Age\"] > 35) & (test[\"Age\"] <= 40), \"Age_clean\"] = 6\n",
    "test.loc[(test[\"Age\"] > 40) & (test[\"Age\"] <= 45), \"Age_clean\"] = 7\n",
    "test.loc[(test[\"Age\"] > 45) & (test[\"Age\"] <= 50), \"Age_clean\"] = 8\n",
    "test.loc[(test[\"Age\"] > 50) & (test[\"Age\"] <= 60), \"Age_clean\"] = 9\n",
    "test.loc[test[\"Age\"] > 60, \"Age_clean\"] = 10\n",
    "\n"
   ]
  },
  {
   "cell_type": "code",
   "execution_count": 34,
   "id": "808ba467",
   "metadata": {
    "execution": {
     "iopub.execute_input": "2023-11-13T15:18:42.352056Z",
     "iopub.status.busy": "2023-11-13T15:18:42.351305Z",
     "iopub.status.idle": "2023-11-13T15:18:42.360707Z",
     "shell.execute_reply": "2023-11-13T15:18:42.359829Z"
    },
    "papermill": {
     "duration": 0.026474,
     "end_time": "2023-11-13T15:18:42.362803",
     "exception": false,
     "start_time": "2023-11-13T15:18:42.336329",
     "status": "completed"
    },
    "tags": []
   },
   "outputs": [
    {
     "data": {
      "text/plain": [
       "PassengerId         0\n",
       "Survived            0\n",
       "Pclass              0\n",
       "Name                0\n",
       "Sex                 0\n",
       "Age                 0\n",
       "SibSp               0\n",
       "Parch               0\n",
       "Ticket              0\n",
       "Fare                0\n",
       "Cabin             687\n",
       "Embarked            0\n",
       "Sex_clean           0\n",
       "Embarked_clean      0\n",
       "family              0\n",
       "solo                0\n",
       "FareBin             0\n",
       "FareBin_clean       0\n",
       "Title               0\n",
       "Title_clean         0\n",
       "Age_clean           0\n",
       "dtype: int64"
      ]
     },
     "execution_count": 34,
     "metadata": {},
     "output_type": "execute_result"
    }
   ],
   "source": [
    "train.isnull().sum()"
   ]
  },
  {
   "cell_type": "code",
   "execution_count": 35,
   "id": "a6a9ead7",
   "metadata": {
    "execution": {
     "iopub.execute_input": "2023-11-13T15:18:42.390880Z",
     "iopub.status.busy": "2023-11-13T15:18:42.390528Z",
     "iopub.status.idle": "2023-11-13T15:18:42.398721Z",
     "shell.execute_reply": "2023-11-13T15:18:42.397498Z"
    },
    "papermill": {
     "duration": 0.024877,
     "end_time": "2023-11-13T15:18:42.401094",
     "exception": false,
     "start_time": "2023-11-13T15:18:42.376217",
     "status": "completed"
    },
    "tags": []
   },
   "outputs": [
    {
     "data": {
      "text/plain": [
       "Cabin\n",
       "C    59\n",
       "B    47\n",
       "D    33\n",
       "E    32\n",
       "A    15\n",
       "F    13\n",
       "G     4\n",
       "T     1\n",
       "Name: count, dtype: int64"
      ]
     },
     "execution_count": 35,
     "metadata": {},
     "output_type": "execute_result"
    }
   ],
   "source": [
    "train['Cabin'].str[:1].value_counts()"
   ]
  },
  {
   "cell_type": "code",
   "execution_count": 36,
   "id": "33d66f82",
   "metadata": {
    "execution": {
     "iopub.execute_input": "2023-11-13T15:18:42.430021Z",
     "iopub.status.busy": "2023-11-13T15:18:42.429085Z",
     "iopub.status.idle": "2023-11-13T15:18:42.442861Z",
     "shell.execute_reply": "2023-11-13T15:18:42.441862Z"
    },
    "papermill": {
     "duration": 0.030653,
     "end_time": "2023-11-13T15:18:42.445448",
     "exception": false,
     "start_time": "2023-11-13T15:18:42.414795",
     "status": "completed"
    },
    "tags": []
   },
   "outputs": [],
   "source": [
    "mapping = {\n",
    "    'A' : 0,\n",
    "    'B' : 1,\n",
    "    'C' : 2,\n",
    "    'D' : 3,\n",
    "    'E' : 4,\n",
    "    'F' : 5,\n",
    "    'G' : 6,\n",
    "    'T' : 7\n",
    "}\n",
    "\n",
    "train['Cabin_clean'] = train['Cabin'].str[:1]\n",
    "train['Cabin_clean'] = train['Cabin_clean'].map(mapping)\n",
    "train['Cabin_clean'] = train.groupby('Pclass')['Cabin_clean'].transform('median')\n",
    "\n",
    "test['Cabin_clean'] = test['Cabin'].str[:1]\n",
    "test['Cabin_clean'] = test['Cabin_clean'].map(mapping)\n",
    "test['Cabin_clean'] = test.groupby('Pclass')['Cabin_clean'].transform('median')"
   ]
  },
  {
   "cell_type": "code",
   "execution_count": 37,
   "id": "d3ec10d4",
   "metadata": {
    "execution": {
     "iopub.execute_input": "2023-11-13T15:18:42.473760Z",
     "iopub.status.busy": "2023-11-13T15:18:42.473388Z",
     "iopub.status.idle": "2023-11-13T15:18:42.484195Z",
     "shell.execute_reply": "2023-11-13T15:18:42.483145Z"
    },
    "papermill": {
     "duration": 0.027321,
     "end_time": "2023-11-13T15:18:42.486265",
     "exception": false,
     "start_time": "2023-11-13T15:18:42.458944",
     "status": "completed"
    },
    "tags": []
   },
   "outputs": [
    {
     "data": {
      "text/plain": [
       "PassengerId         0\n",
       "Survived            0\n",
       "Pclass              0\n",
       "Name                0\n",
       "Sex                 0\n",
       "Age                 0\n",
       "SibSp               0\n",
       "Parch               0\n",
       "Ticket              0\n",
       "Fare                0\n",
       "Cabin             687\n",
       "Embarked            0\n",
       "Sex_clean           0\n",
       "Embarked_clean      0\n",
       "family              0\n",
       "solo                0\n",
       "FareBin             0\n",
       "FareBin_clean       0\n",
       "Title               0\n",
       "Title_clean         0\n",
       "Age_clean           0\n",
       "Cabin_clean         0\n",
       "dtype: int64"
      ]
     },
     "execution_count": 37,
     "metadata": {},
     "output_type": "execute_result"
    }
   ],
   "source": [
    "train.isnull().sum()"
   ]
  },
  {
   "cell_type": "code",
   "execution_count": 38,
   "id": "1f87b5c5",
   "metadata": {
    "execution": {
     "iopub.execute_input": "2023-11-13T15:18:42.515582Z",
     "iopub.status.busy": "2023-11-13T15:18:42.514871Z",
     "iopub.status.idle": "2023-11-13T15:18:42.520110Z",
     "shell.execute_reply": "2023-11-13T15:18:42.519097Z"
    },
    "papermill": {
     "duration": 0.022145,
     "end_time": "2023-11-13T15:18:42.522284",
     "exception": false,
     "start_time": "2023-11-13T15:18:42.500139",
     "status": "completed"
    },
    "tags": []
   },
   "outputs": [],
   "source": [
    "\n",
    "feature = [\n",
    "    'Pclass',\n",
    "    'SibSp',\n",
    "    'Parch',\n",
    "    'Sex_clean',\n",
    "    'Embarked_clean',\n",
    "    'family',\n",
    "    'solo',\n",
    "    'FareBin_clean',\n",
    "    'Title_clean',\n",
    "    'Age_clean',\n",
    "    'Cabin_clean'\n",
    "]\n",
    "\n",
    "label = [\n",
    "    'Survived'\n",
    "]"
   ]
  },
  {
   "cell_type": "code",
   "execution_count": 39,
   "id": "de0abfea",
   "metadata": {
    "execution": {
     "iopub.execute_input": "2023-11-13T15:18:42.551014Z",
     "iopub.status.busy": "2023-11-13T15:18:42.550664Z",
     "iopub.status.idle": "2023-11-13T15:18:44.218426Z",
     "shell.execute_reply": "2023-11-13T15:18:44.217568Z"
    },
    "papermill": {
     "duration": 1.684513,
     "end_time": "2023-11-13T15:18:44.220530",
     "exception": false,
     "start_time": "2023-11-13T15:18:42.536017",
     "status": "completed"
    },
    "tags": []
   },
   "outputs": [
    {
     "data": {
      "text/plain": [
       "0.8260174781523096"
      ]
     },
     "execution_count": 39,
     "metadata": {},
     "output_type": "execute_result"
    }
   ],
   "source": [
    "from sklearn.model_selection import KFold, cross_val_score\n",
    "from sklearn.ensemble import RandomForestClassifier\n",
    "\n",
    "data = train[feature]\n",
    "target = train[label]\n",
    "\n",
    "k_fold = KFold(n_splits=10, shuffle=True, random_state=0)\n",
    "clf = RandomForestClassifier(n_estimators=50, max_depth=6, random_state=0)\n",
    "cross_val_score(clf, data, target, cv=k_fold, scoring='accuracy', ).mean()"
   ]
  },
  {
   "cell_type": "code",
   "execution_count": 40,
   "id": "2af5564c",
   "metadata": {
    "execution": {
     "iopub.execute_input": "2023-11-13T15:18:44.250064Z",
     "iopub.status.busy": "2023-11-13T15:18:44.249316Z",
     "iopub.status.idle": "2023-11-13T15:18:44.365098Z",
     "shell.execute_reply": "2023-11-13T15:18:44.364270Z"
    },
    "papermill": {
     "duration": 0.133049,
     "end_time": "2023-11-13T15:18:44.367576",
     "exception": false,
     "start_time": "2023-11-13T15:18:44.234527",
     "status": "completed"
    },
    "tags": []
   },
   "outputs": [],
   "source": [
    "x_train = train[feature]\n",
    "x_test = test[feature]\n",
    "y_train = train[label]\n",
    "\n",
    "clf = RandomForestClassifier(n_estimators=50, max_depth=6, random_state=0)\n",
    "clf.fit(x_train, y_train)\n",
    "submission['Survived'] = clf.predict(x_test)\n",
    "submission.to_csv('titanic-submission.csv', index=False)"
   ]
  },
  {
   "cell_type": "code",
   "execution_count": null,
   "id": "6d137925",
   "metadata": {
    "papermill": {
     "duration": 0.013161,
     "end_time": "2023-11-13T15:18:44.394316",
     "exception": false,
     "start_time": "2023-11-13T15:18:44.381155",
     "status": "completed"
    },
    "tags": []
   },
   "outputs": [],
   "source": []
  }
 ],
 "metadata": {
  "kernelspec": {
   "display_name": "Python 3",
   "language": "python",
   "name": "python3"
  },
  "language_info": {
   "codemirror_mode": {
    "name": "ipython",
    "version": 3
   },
   "file_extension": ".py",
   "mimetype": "text/x-python",
   "name": "python",
   "nbconvert_exporter": "python",
   "pygments_lexer": "ipython3",
   "version": "3.10.12"
  },
  "papermill": {
   "default_parameters": {},
   "duration": 10.056719,
   "end_time": "2023-11-13T15:18:45.027196",
   "environment_variables": {},
   "exception": null,
   "input_path": "__notebook__.ipynb",
   "output_path": "__notebook__.ipynb",
   "parameters": {},
   "start_time": "2023-11-13T15:18:34.970477",
   "version": "2.4.0"
  }
 },
 "nbformat": 4,
 "nbformat_minor": 5
}
